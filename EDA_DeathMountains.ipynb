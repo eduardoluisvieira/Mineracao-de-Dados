{
  "nbformat": 4,
  "nbformat_minor": 0,
  "metadata": {
    "colab": {
      "name": "EDA_DeathMountains.ipynb",
      "provenance": [],
      "authorship_tag": "ABX9TyMNecVnAHHzZAIcFC2zAuK3",
      "include_colab_link": true
    },
    "kernelspec": {
      "name": "python3",
      "display_name": "Python 3"
    },
    "language_info": {
      "name": "python"
    }
  },
  "cells": [
    {
      "cell_type": "markdown",
      "metadata": {
        "id": "view-in-github",
        "colab_type": "text"
      },
      "source": [
        "<a href=\"https://colab.research.google.com/github/eduardoluisvieira/Mineracao-de-Dados/blob/main/EDA_DeathMountains.ipynb\" target=\"_parent\"><img src=\"https://colab.research.google.com/assets/colab-badge.svg\" alt=\"Open In Colab\"/></a>"
      ]
    },
    {
      "cell_type": "markdown",
      "source": [
        "# **Análise Exploratória  - Mortes nas 14 maiores montanhas do mundo**\n",
        "\n",
        "---\n",
        "\n"
      ],
      "metadata": {
        "id": "1NYEW5GAJywo"
      }
    },
    {
      "cell_type": "code",
      "source": [
        "# Importação das bibliotecas\n",
        "import pandas as pd\n",
        "import numpy as np\n",
        "import statistics as sts\n",
        "import matplotlib.pyplot as plt\n",
        "%matplotlib inline\n",
        "import seaborn as sns\n"
      ],
      "metadata": {
        "id": "zkcFh1GuKAr4"
      },
      "execution_count": 1,
      "outputs": []
    },
    {
      "cell_type": "code",
      "source": [
        "# Leitura dos datasets\n",
        "annapurna = pd.read_csv('https://raw.githubusercontent.com/eduardoluisvieira/Datasets/main/Mountains/annapurna-I.csv',sep=',')"
      ],
      "metadata": {
        "id": "xlOMen9hKDrE"
      },
      "execution_count": 2,
      "outputs": []
    },
    {
      "cell_type": "code",
      "source": [
        "broad_peak = pd.read_csv('https://raw.githubusercontent.com/eduardoluisvieira/Datasets/main/Mountains/broad-peak.csv',sep=',')"
      ],
      "metadata": {
        "id": "grh9nJnSKxPq"
      },
      "execution_count": 4,
      "outputs": []
    },
    {
      "cell_type": "code",
      "source": [
        "cho_oyu = pd.read_csv('https://raw.githubusercontent.com/eduardoluisvieira/Datasets/main/Mountains/cho-oyu.csv',sep=',')\n"
      ],
      "metadata": {
        "id": "de_H2jbiK8Xp"
      },
      "execution_count": 6,
      "outputs": []
    },
    {
      "cell_type": "code",
      "source": [
        "dhaulagiri = pd.read_csv('https://raw.githubusercontent.com/eduardoluisvieira/Datasets/main/Mountains/dhaulagiri-I.csv',sep=',')"
      ],
      "metadata": {
        "id": "B2ERel45LXKT"
      },
      "execution_count": 7,
      "outputs": []
    },
    {
      "cell_type": "code",
      "source": [
        "everest = pd.read_csv('https://raw.githubusercontent.com/eduardoluisvieira/Datasets/main/Mountains/everest.csv',sep=',')"
      ],
      "metadata": {
        "id": "Y3E2y_4GLM4t"
      },
      "execution_count": 8,
      "outputs": []
    },
    {
      "cell_type": "code",
      "source": [
        "gasherbrum = pd.read_csv('https://raw.githubusercontent.com/eduardoluisvieira/Datasets/main/Mountains/gasherbrum-I.csv',sep=',')"
      ],
      "metadata": {
        "id": "gzk95uDvLvu6"
      },
      "execution_count": 11,
      "outputs": []
    },
    {
      "cell_type": "code",
      "source": [
        "gasherbrum_II = pd.read_csv('https://raw.githubusercontent.com/eduardoluisvieira/Datasets/main/Mountains/gasherbrum-II.csv',sep=',')"
      ],
      "metadata": {
        "id": "Y1heCmVrL6k4"
      },
      "execution_count": 12,
      "outputs": []
    },
    {
      "cell_type": "code",
      "source": [
        "k2 = pd.read_csv('https://raw.githubusercontent.com/eduardoluisvieira/Datasets/main/Mountains/k2.csv',sep=',')"
      ],
      "metadata": {
        "id": "lMVGZPNcOf_i"
      },
      "execution_count": 13,
      "outputs": []
    },
    {
      "cell_type": "code",
      "source": [
        "kangchenjunga = pd.read_csv('https://raw.githubusercontent.com/eduardoluisvieira/Datasets/main/Mountains/kangchenjunga.csv',sep=',')"
      ],
      "metadata": {
        "id": "1Kj6JtWhOsuf"
      },
      "execution_count": 14,
      "outputs": []
    },
    {
      "cell_type": "code",
      "source": [
        "lhotse = pd.read_csv('https://raw.githubusercontent.com/eduardoluisvieira/Datasets/main/Mountains/lhotse.csv',sep=',')"
      ],
      "metadata": {
        "id": "nfRkhBrEO4SQ"
      },
      "execution_count": 15,
      "outputs": []
    },
    {
      "cell_type": "code",
      "source": [
        "makalu = pd.read_csv('https://raw.githubusercontent.com/eduardoluisvieira/Datasets/main/Mountains/makalu.csv',sep=',')"
      ],
      "metadata": {
        "id": "BeNyJD8zPB1_"
      },
      "execution_count": 16,
      "outputs": []
    },
    {
      "cell_type": "code",
      "source": [
        "manaslu = pd.read_csv('https://raw.githubusercontent.com/eduardoluisvieira/Datasets/main/Mountains/manaslu.csv',sep=',')"
      ],
      "metadata": {
        "id": "zE0_jnVJPJ8w"
      },
      "execution_count": 18,
      "outputs": []
    },
    {
      "cell_type": "code",
      "source": [
        "nanga_parbat = pd.read_csv('https://raw.githubusercontent.com/eduardoluisvieira/Datasets/main/Mountains/nanga-parbat.csv',sep=',')"
      ],
      "metadata": {
        "id": "N0CR9LtgPSBM"
      },
      "execution_count": 20,
      "outputs": []
    },
    {
      "cell_type": "code",
      "source": [
        "shishapangma = pd.read_csv('https://raw.githubusercontent.com/eduardoluisvieira/Datasets/main/Mountains/shishapangma.csv',sep=',')"
      ],
      "metadata": {
        "id": "KmMQPNzbPbqd"
      },
      "execution_count": 21,
      "outputs": []
    },
    {
      "cell_type": "code",
      "source": [
        "annapurna.head()"
      ],
      "metadata": {
        "colab": {
          "base_uri": "https://localhost:8080/",
          "height": 206
        },
        "id": "aC926MF5Pl7x",
        "outputId": "ccf7c275-f5ea-42a5-d3d8-3d183e19e753"
      },
      "execution_count": 22,
      "outputs": [
        {
          "output_type": "execute_result",
          "data": {
            "text/plain": [
              "             Date                Name Nationality         Cause of death\n",
              "0      3 May 2019        Wui Kin Chin    Malaysia  Hypothermia/Frostbite\n",
              "1   24 March 2015     Samuli Mansikka     Finland                   Fall\n",
              "2   24 March 2015        Pemba Sherpa       Nepal                   Fall\n",
              "3  7 October 2012        Ivan Lobanov  Uzbekistan              Avalanche\n",
              "4  7 October 2012  Iljas Tukhvatullin  Uzbekistan              Avalanche"
            ],
            "text/html": [
              "\n",
              "  <div id=\"df-8b623441-6774-4b6d-8ae9-89bf18041e00\">\n",
              "    <div class=\"colab-df-container\">\n",
              "      <div>\n",
              "<style scoped>\n",
              "    .dataframe tbody tr th:only-of-type {\n",
              "        vertical-align: middle;\n",
              "    }\n",
              "\n",
              "    .dataframe tbody tr th {\n",
              "        vertical-align: top;\n",
              "    }\n",
              "\n",
              "    .dataframe thead th {\n",
              "        text-align: right;\n",
              "    }\n",
              "</style>\n",
              "<table border=\"1\" class=\"dataframe\">\n",
              "  <thead>\n",
              "    <tr style=\"text-align: right;\">\n",
              "      <th></th>\n",
              "      <th>Date</th>\n",
              "      <th>Name</th>\n",
              "      <th>Nationality</th>\n",
              "      <th>Cause of death</th>\n",
              "    </tr>\n",
              "  </thead>\n",
              "  <tbody>\n",
              "    <tr>\n",
              "      <th>0</th>\n",
              "      <td>3 May 2019</td>\n",
              "      <td>Wui Kin Chin</td>\n",
              "      <td>Malaysia</td>\n",
              "      <td>Hypothermia/Frostbite</td>\n",
              "    </tr>\n",
              "    <tr>\n",
              "      <th>1</th>\n",
              "      <td>24 March 2015</td>\n",
              "      <td>Samuli Mansikka</td>\n",
              "      <td>Finland</td>\n",
              "      <td>Fall</td>\n",
              "    </tr>\n",
              "    <tr>\n",
              "      <th>2</th>\n",
              "      <td>24 March 2015</td>\n",
              "      <td>Pemba Sherpa</td>\n",
              "      <td>Nepal</td>\n",
              "      <td>Fall</td>\n",
              "    </tr>\n",
              "    <tr>\n",
              "      <th>3</th>\n",
              "      <td>7 October 2012</td>\n",
              "      <td>Ivan Lobanov</td>\n",
              "      <td>Uzbekistan</td>\n",
              "      <td>Avalanche</td>\n",
              "    </tr>\n",
              "    <tr>\n",
              "      <th>4</th>\n",
              "      <td>7 October 2012</td>\n",
              "      <td>Iljas Tukhvatullin</td>\n",
              "      <td>Uzbekistan</td>\n",
              "      <td>Avalanche</td>\n",
              "    </tr>\n",
              "  </tbody>\n",
              "</table>\n",
              "</div>\n",
              "      <button class=\"colab-df-convert\" onclick=\"convertToInteractive('df-8b623441-6774-4b6d-8ae9-89bf18041e00')\"\n",
              "              title=\"Convert this dataframe to an interactive table.\"\n",
              "              style=\"display:none;\">\n",
              "        \n",
              "  <svg xmlns=\"http://www.w3.org/2000/svg\" height=\"24px\"viewBox=\"0 0 24 24\"\n",
              "       width=\"24px\">\n",
              "    <path d=\"M0 0h24v24H0V0z\" fill=\"none\"/>\n",
              "    <path d=\"M18.56 5.44l.94 2.06.94-2.06 2.06-.94-2.06-.94-.94-2.06-.94 2.06-2.06.94zm-11 1L8.5 8.5l.94-2.06 2.06-.94-2.06-.94L8.5 2.5l-.94 2.06-2.06.94zm10 10l.94 2.06.94-2.06 2.06-.94-2.06-.94-.94-2.06-.94 2.06-2.06.94z\"/><path d=\"M17.41 7.96l-1.37-1.37c-.4-.4-.92-.59-1.43-.59-.52 0-1.04.2-1.43.59L10.3 9.45l-7.72 7.72c-.78.78-.78 2.05 0 2.83L4 21.41c.39.39.9.59 1.41.59.51 0 1.02-.2 1.41-.59l7.78-7.78 2.81-2.81c.8-.78.8-2.07 0-2.86zM5.41 20L4 18.59l7.72-7.72 1.47 1.35L5.41 20z\"/>\n",
              "  </svg>\n",
              "      </button>\n",
              "      \n",
              "  <style>\n",
              "    .colab-df-container {\n",
              "      display:flex;\n",
              "      flex-wrap:wrap;\n",
              "      gap: 12px;\n",
              "    }\n",
              "\n",
              "    .colab-df-convert {\n",
              "      background-color: #E8F0FE;\n",
              "      border: none;\n",
              "      border-radius: 50%;\n",
              "      cursor: pointer;\n",
              "      display: none;\n",
              "      fill: #1967D2;\n",
              "      height: 32px;\n",
              "      padding: 0 0 0 0;\n",
              "      width: 32px;\n",
              "    }\n",
              "\n",
              "    .colab-df-convert:hover {\n",
              "      background-color: #E2EBFA;\n",
              "      box-shadow: 0px 1px 2px rgba(60, 64, 67, 0.3), 0px 1px 3px 1px rgba(60, 64, 67, 0.15);\n",
              "      fill: #174EA6;\n",
              "    }\n",
              "\n",
              "    [theme=dark] .colab-df-convert {\n",
              "      background-color: #3B4455;\n",
              "      fill: #D2E3FC;\n",
              "    }\n",
              "\n",
              "    [theme=dark] .colab-df-convert:hover {\n",
              "      background-color: #434B5C;\n",
              "      box-shadow: 0px 1px 3px 1px rgba(0, 0, 0, 0.15);\n",
              "      filter: drop-shadow(0px 1px 2px rgba(0, 0, 0, 0.3));\n",
              "      fill: #FFFFFF;\n",
              "    }\n",
              "  </style>\n",
              "\n",
              "      <script>\n",
              "        const buttonEl =\n",
              "          document.querySelector('#df-8b623441-6774-4b6d-8ae9-89bf18041e00 button.colab-df-convert');\n",
              "        buttonEl.style.display =\n",
              "          google.colab.kernel.accessAllowed ? 'block' : 'none';\n",
              "\n",
              "        async function convertToInteractive(key) {\n",
              "          const element = document.querySelector('#df-8b623441-6774-4b6d-8ae9-89bf18041e00');\n",
              "          const dataTable =\n",
              "            await google.colab.kernel.invokeFunction('convertToInteractive',\n",
              "                                                     [key], {});\n",
              "          if (!dataTable) return;\n",
              "\n",
              "          const docLinkHtml = 'Like what you see? Visit the ' +\n",
              "            '<a target=\"_blank\" href=https://colab.research.google.com/notebooks/data_table.ipynb>data table notebook</a>'\n",
              "            + ' to learn more about interactive tables.';\n",
              "          element.innerHTML = '';\n",
              "          dataTable['output_type'] = 'display_data';\n",
              "          await google.colab.output.renderOutput(dataTable, element);\n",
              "          const docLink = document.createElement('div');\n",
              "          docLink.innerHTML = docLinkHtml;\n",
              "          element.appendChild(docLink);\n",
              "        }\n",
              "      </script>\n",
              "    </div>\n",
              "  </div>\n",
              "  "
            ]
          },
          "metadata": {},
          "execution_count": 22
        }
      ]
    },
    {
      "cell_type": "code",
      "source": [
        "annapurna.describe()"
      ],
      "metadata": {
        "colab": {
          "base_uri": "https://localhost:8080/",
          "height": 175
        },
        "id": "iVdIeIUMP1LV",
        "outputId": "0b00069b-8e0e-4a33-f84a-f8e31852c2ce"
      },
      "execution_count": 24,
      "outputs": [
        {
          "output_type": "execute_result",
          "data": {
            "text/plain": [
              "                     Date          Name Nationality Cause of death\n",
              "count                  73            73          73             73\n",
              "unique                 43            73          20             11\n",
              "top     19 September 1991  Wui Kin Chin       Nepal      Avalanche\n",
              "freq                    6             1          18             40"
            ],
            "text/html": [
              "\n",
              "  <div id=\"df-567462bd-3c06-46cf-8073-2b17bb8abb25\">\n",
              "    <div class=\"colab-df-container\">\n",
              "      <div>\n",
              "<style scoped>\n",
              "    .dataframe tbody tr th:only-of-type {\n",
              "        vertical-align: middle;\n",
              "    }\n",
              "\n",
              "    .dataframe tbody tr th {\n",
              "        vertical-align: top;\n",
              "    }\n",
              "\n",
              "    .dataframe thead th {\n",
              "        text-align: right;\n",
              "    }\n",
              "</style>\n",
              "<table border=\"1\" class=\"dataframe\">\n",
              "  <thead>\n",
              "    <tr style=\"text-align: right;\">\n",
              "      <th></th>\n",
              "      <th>Date</th>\n",
              "      <th>Name</th>\n",
              "      <th>Nationality</th>\n",
              "      <th>Cause of death</th>\n",
              "    </tr>\n",
              "  </thead>\n",
              "  <tbody>\n",
              "    <tr>\n",
              "      <th>count</th>\n",
              "      <td>73</td>\n",
              "      <td>73</td>\n",
              "      <td>73</td>\n",
              "      <td>73</td>\n",
              "    </tr>\n",
              "    <tr>\n",
              "      <th>unique</th>\n",
              "      <td>43</td>\n",
              "      <td>73</td>\n",
              "      <td>20</td>\n",
              "      <td>11</td>\n",
              "    </tr>\n",
              "    <tr>\n",
              "      <th>top</th>\n",
              "      <td>19 September 1991</td>\n",
              "      <td>Wui Kin Chin</td>\n",
              "      <td>Nepal</td>\n",
              "      <td>Avalanche</td>\n",
              "    </tr>\n",
              "    <tr>\n",
              "      <th>freq</th>\n",
              "      <td>6</td>\n",
              "      <td>1</td>\n",
              "      <td>18</td>\n",
              "      <td>40</td>\n",
              "    </tr>\n",
              "  </tbody>\n",
              "</table>\n",
              "</div>\n",
              "      <button class=\"colab-df-convert\" onclick=\"convertToInteractive('df-567462bd-3c06-46cf-8073-2b17bb8abb25')\"\n",
              "              title=\"Convert this dataframe to an interactive table.\"\n",
              "              style=\"display:none;\">\n",
              "        \n",
              "  <svg xmlns=\"http://www.w3.org/2000/svg\" height=\"24px\"viewBox=\"0 0 24 24\"\n",
              "       width=\"24px\">\n",
              "    <path d=\"M0 0h24v24H0V0z\" fill=\"none\"/>\n",
              "    <path d=\"M18.56 5.44l.94 2.06.94-2.06 2.06-.94-2.06-.94-.94-2.06-.94 2.06-2.06.94zm-11 1L8.5 8.5l.94-2.06 2.06-.94-2.06-.94L8.5 2.5l-.94 2.06-2.06.94zm10 10l.94 2.06.94-2.06 2.06-.94-2.06-.94-.94-2.06-.94 2.06-2.06.94z\"/><path d=\"M17.41 7.96l-1.37-1.37c-.4-.4-.92-.59-1.43-.59-.52 0-1.04.2-1.43.59L10.3 9.45l-7.72 7.72c-.78.78-.78 2.05 0 2.83L4 21.41c.39.39.9.59 1.41.59.51 0 1.02-.2 1.41-.59l7.78-7.78 2.81-2.81c.8-.78.8-2.07 0-2.86zM5.41 20L4 18.59l7.72-7.72 1.47 1.35L5.41 20z\"/>\n",
              "  </svg>\n",
              "      </button>\n",
              "      \n",
              "  <style>\n",
              "    .colab-df-container {\n",
              "      display:flex;\n",
              "      flex-wrap:wrap;\n",
              "      gap: 12px;\n",
              "    }\n",
              "\n",
              "    .colab-df-convert {\n",
              "      background-color: #E8F0FE;\n",
              "      border: none;\n",
              "      border-radius: 50%;\n",
              "      cursor: pointer;\n",
              "      display: none;\n",
              "      fill: #1967D2;\n",
              "      height: 32px;\n",
              "      padding: 0 0 0 0;\n",
              "      width: 32px;\n",
              "    }\n",
              "\n",
              "    .colab-df-convert:hover {\n",
              "      background-color: #E2EBFA;\n",
              "      box-shadow: 0px 1px 2px rgba(60, 64, 67, 0.3), 0px 1px 3px 1px rgba(60, 64, 67, 0.15);\n",
              "      fill: #174EA6;\n",
              "    }\n",
              "\n",
              "    [theme=dark] .colab-df-convert {\n",
              "      background-color: #3B4455;\n",
              "      fill: #D2E3FC;\n",
              "    }\n",
              "\n",
              "    [theme=dark] .colab-df-convert:hover {\n",
              "      background-color: #434B5C;\n",
              "      box-shadow: 0px 1px 3px 1px rgba(0, 0, 0, 0.15);\n",
              "      filter: drop-shadow(0px 1px 2px rgba(0, 0, 0, 0.3));\n",
              "      fill: #FFFFFF;\n",
              "    }\n",
              "  </style>\n",
              "\n",
              "      <script>\n",
              "        const buttonEl =\n",
              "          document.querySelector('#df-567462bd-3c06-46cf-8073-2b17bb8abb25 button.colab-df-convert');\n",
              "        buttonEl.style.display =\n",
              "          google.colab.kernel.accessAllowed ? 'block' : 'none';\n",
              "\n",
              "        async function convertToInteractive(key) {\n",
              "          const element = document.querySelector('#df-567462bd-3c06-46cf-8073-2b17bb8abb25');\n",
              "          const dataTable =\n",
              "            await google.colab.kernel.invokeFunction('convertToInteractive',\n",
              "                                                     [key], {});\n",
              "          if (!dataTable) return;\n",
              "\n",
              "          const docLinkHtml = 'Like what you see? Visit the ' +\n",
              "            '<a target=\"_blank\" href=https://colab.research.google.com/notebooks/data_table.ipynb>data table notebook</a>'\n",
              "            + ' to learn more about interactive tables.';\n",
              "          element.innerHTML = '';\n",
              "          dataTable['output_type'] = 'display_data';\n",
              "          await google.colab.output.renderOutput(dataTable, element);\n",
              "          const docLink = document.createElement('div');\n",
              "          docLink.innerHTML = docLinkHtml;\n",
              "          element.appendChild(docLink);\n",
              "        }\n",
              "      </script>\n",
              "    </div>\n",
              "  </div>\n",
              "  "
            ]
          },
          "metadata": {},
          "execution_count": 24
        }
      ]
    },
    {
      "cell_type": "code",
      "source": [
        "annapurna.info()\n",
        "broad_peak.info()\n",
        "cho_oyu.info()\n",
        "dhaulagiri.info()\n",
        "everest.info()\n",
        "gasherbrum.info()\n",
        "gasherbrum_II.info()\n",
        "lhotse.info() \n",
        "makalu.info() \n",
        "manaslu.info() \n",
        "nanga_parbat.info() \n",
        "shishapangma.info() \n"
      ],
      "metadata": {
        "colab": {
          "base_uri": "https://localhost:8080/"
        },
        "id": "LqG4tKYUPyEu",
        "outputId": "83965ed5-bf67-4caa-e4aa-f19b26c7041c"
      },
      "execution_count": 28,
      "outputs": [
        {
          "output_type": "stream",
          "name": "stdout",
          "text": [
            "<class 'pandas.core.frame.DataFrame'>\n",
            "RangeIndex: 73 entries, 0 to 72\n",
            "Data columns (total 4 columns):\n",
            " #   Column          Non-Null Count  Dtype \n",
            "---  ------          --------------  ----- \n",
            " 0   Date            73 non-null     object\n",
            " 1   Name            73 non-null     object\n",
            " 2   Nationality     73 non-null     object\n",
            " 3   Cause of death  73 non-null     object\n",
            "dtypes: object(4)\n",
            "memory usage: 2.4+ KB\n",
            "<class 'pandas.core.frame.DataFrame'>\n",
            "RangeIndex: 35 entries, 0 to 34\n",
            "Data columns (total 4 columns):\n",
            " #   Column          Non-Null Count  Dtype \n",
            "---  ------          --------------  ----- \n",
            " 0   Date            35 non-null     object\n",
            " 1   Name            35 non-null     object\n",
            " 2   Nationality     35 non-null     object\n",
            " 3   Cause of death  35 non-null     object\n",
            "dtypes: object(4)\n",
            "memory usage: 1.2+ KB\n",
            "<class 'pandas.core.frame.DataFrame'>\n",
            "RangeIndex: 52 entries, 0 to 51\n",
            "Data columns (total 4 columns):\n",
            " #   Column          Non-Null Count  Dtype \n",
            "---  ------          --------------  ----- \n",
            " 0   Date            52 non-null     object\n",
            " 1   Name            52 non-null     object\n",
            " 2   Nationality     52 non-null     object\n",
            " 3   Cause of death  52 non-null     object\n",
            "dtypes: object(4)\n",
            "memory usage: 1.8+ KB\n",
            "<class 'pandas.core.frame.DataFrame'>\n",
            "RangeIndex: 82 entries, 0 to 81\n",
            "Data columns (total 4 columns):\n",
            " #   Column          Non-Null Count  Dtype \n",
            "---  ------          --------------  ----- \n",
            " 0   Date            82 non-null     object\n",
            " 1   Name            82 non-null     object\n",
            " 2   Nationality     82 non-null     object\n",
            " 3   Cause of death  82 non-null     object\n",
            "dtypes: object(4)\n",
            "memory usage: 2.7+ KB\n",
            "<class 'pandas.core.frame.DataFrame'>\n",
            "RangeIndex: 309 entries, 0 to 308\n",
            "Data columns (total 4 columns):\n",
            " #   Column          Non-Null Count  Dtype \n",
            "---  ------          --------------  ----- \n",
            " 0   Date            309 non-null    object\n",
            " 1   Name            309 non-null    object\n",
            " 2   Nationality     309 non-null    object\n",
            " 3   Cause of death  309 non-null    object\n",
            "dtypes: object(4)\n",
            "memory usage: 9.8+ KB\n",
            "<class 'pandas.core.frame.DataFrame'>\n",
            "RangeIndex: 34 entries, 0 to 33\n",
            "Data columns (total 4 columns):\n",
            " #   Column          Non-Null Count  Dtype \n",
            "---  ------          --------------  ----- \n",
            " 0   Date            34 non-null     object\n",
            " 1   Name            34 non-null     object\n",
            " 2   Nationality     34 non-null     object\n",
            " 3   Cause of death  34 non-null     object\n",
            "dtypes: object(4)\n",
            "memory usage: 1.2+ KB\n",
            "<class 'pandas.core.frame.DataFrame'>\n",
            "RangeIndex: 23 entries, 0 to 22\n",
            "Data columns (total 4 columns):\n",
            " #   Column          Non-Null Count  Dtype \n",
            "---  ------          --------------  ----- \n",
            " 0   Date            23 non-null     object\n",
            " 1   Name            23 non-null     object\n",
            " 2   Nationality     23 non-null     object\n",
            " 3   Cause of death  23 non-null     object\n",
            "dtypes: object(4)\n",
            "memory usage: 864.0+ bytes\n",
            "<class 'pandas.core.frame.DataFrame'>\n",
            "RangeIndex: 31 entries, 0 to 30\n",
            "Data columns (total 4 columns):\n",
            " #   Column          Non-Null Count  Dtype \n",
            "---  ------          --------------  ----- \n",
            " 0   Date            31 non-null     object\n",
            " 1   Name            31 non-null     object\n",
            " 2   Nationality     31 non-null     object\n",
            " 3   Cause of death  31 non-null     object\n",
            "dtypes: object(4)\n",
            "memory usage: 1.1+ KB\n",
            "<class 'pandas.core.frame.DataFrame'>\n",
            "RangeIndex: 40 entries, 0 to 39\n",
            "Data columns (total 4 columns):\n",
            " #   Column          Non-Null Count  Dtype \n",
            "---  ------          --------------  ----- \n",
            " 0   Date            40 non-null     object\n",
            " 1   Name            40 non-null     object\n",
            " 2   Nationality     40 non-null     object\n",
            " 3   Cause of death  40 non-null     object\n",
            "dtypes: object(4)\n",
            "memory usage: 1.4+ KB\n",
            "<class 'pandas.core.frame.DataFrame'>\n",
            "RangeIndex: 86 entries, 0 to 85\n",
            "Data columns (total 4 columns):\n",
            " #   Column          Non-Null Count  Dtype \n",
            "---  ------          --------------  ----- \n",
            " 0   Date            86 non-null     object\n",
            " 1   Name            86 non-null     object\n",
            " 2   Nationality     86 non-null     object\n",
            " 3   Cause of death  86 non-null     object\n",
            "dtypes: object(4)\n",
            "memory usage: 2.8+ KB\n",
            "<class 'pandas.core.frame.DataFrame'>\n",
            "RangeIndex: 85 entries, 0 to 84\n",
            "Data columns (total 4 columns):\n",
            " #   Column          Non-Null Count  Dtype \n",
            "---  ------          --------------  ----- \n",
            " 0   Date            85 non-null     object\n",
            " 1   Name            85 non-null     object\n",
            " 2   Nationality     85 non-null     object\n",
            " 3   Cause of death  85 non-null     object\n",
            "dtypes: object(4)\n",
            "memory usage: 2.8+ KB\n",
            "<class 'pandas.core.frame.DataFrame'>\n",
            "RangeIndex: 31 entries, 0 to 30\n",
            "Data columns (total 4 columns):\n",
            " #   Column          Non-Null Count  Dtype \n",
            "---  ------          --------------  ----- \n",
            " 0   Date            31 non-null     object\n",
            " 1   Name            31 non-null     object\n",
            " 2   Nationality     31 non-null     object\n",
            " 3   Cause of death  31 non-null     object\n",
            "dtypes: object(4)\n",
            "memory usage: 1.1+ KB\n"
          ]
        }
      ]
    },
    {
      "cell_type": "code",
      "source": [
        "annapurna['Mountain'] = 'Annapurna'\n",
        "broad_peak['Mountain'] = 'Broad Peak'\n",
        "cho_oyu['Mountain'] = 'Cho Oyu'\n",
        "dhaulagiri['Mountain'] = 'Dhaulagiri'\n",
        "everest['Mountain'] = 'Everest'\n",
        "gasherbrum['Mountain'] = 'Gasherbrum'\n",
        "gasherbrum_II['Mountain'] = 'Gasherbrum II'\n",
        "lhotse['Mountain'] = 'Lhotse'\n",
        "makalu['Mountain'] = 'Makalu'\n",
        "manaslu['Mountain'] = 'Manaslu'\n",
        "nanga_parbat['Mountain'] = 'Nanga_parbat'\n",
        "shishapangma['Mountain'] = 'Shishapangma'"
      ],
      "metadata": {
        "id": "KwrSz2EBQWhT"
      },
      "execution_count": 41,
      "outputs": []
    },
    {
      "cell_type": "code",
      "source": [
        "frames = [annapurna,broad_peak,cho_oyu,dhaulagiri,everest,gasherbrum,gasherbrum_II,lhotse,makalu,manaslu,nanga_parbat,shishapangma]"
      ],
      "metadata": {
        "id": "Vpgbtj2gQ9I-"
      },
      "execution_count": 42,
      "outputs": []
    },
    {
      "cell_type": "code",
      "source": [
        "mountains = pd.concat(frames)"
      ],
      "metadata": {
        "id": "ZyN0AuB9SZRQ"
      },
      "execution_count": 43,
      "outputs": []
    },
    {
      "cell_type": "code",
      "source": [
        "mountains"
      ],
      "metadata": {
        "colab": {
          "base_uri": "https://localhost:8080/",
          "height": 423
        },
        "id": "mqr1Im5RSeSY",
        "outputId": "469312d7-ffba-41d5-f455-a6290cc2e530"
      },
      "execution_count": 44,
      "outputs": [
        {
          "output_type": "execute_result",
          "data": {
            "text/plain": [
              "               Date                Name  Nationality  \\\n",
              "0        3 May 2019        Wui Kin Chin     Malaysia   \n",
              "1     24 March 2015     Samuli Mansikka      Finland   \n",
              "2     24 March 2015        Pemba Sherpa        Nepal   \n",
              "3    7 October 2012        Ivan Lobanov   Uzbekistan   \n",
              "4    7 October 2012  Iljas Tukhvatullin   Uzbekistan   \n",
              "..              ...                 ...          ...   \n",
              "26      22 May 1991     Günther Semmler      Germany   \n",
              "27      22 May 1991   Karl-Heinz Thiele      Germany   \n",
              "28  15 October 1990       Joan Martinez        Spain   \n",
              "29   4 October 1989       Luca Leonardi  Switzerland   \n",
              "30    28 April 1983    Fritz Luchsinger  Switzerland   \n",
              "\n",
              "                        Cause of death      Mountain  \n",
              "0                Hypothermia/Frostbite     Annapurna  \n",
              "1                                 Fall     Annapurna  \n",
              "2                                 Fall     Annapurna  \n",
              "3                            Avalanche     Annapurna  \n",
              "4                            Avalanche     Annapurna  \n",
              "..                                 ...           ...  \n",
              "26  Disappearance (probably avalanche)  Shishapangma  \n",
              "27  Disappearance (probably avalanche)  Shishapangma  \n",
              "28                            Exposure  Shishapangma  \n",
              "29                           Avalanche  Shishapangma  \n",
              "30                   Altitude sickness  Shishapangma  \n",
              "\n",
              "[881 rows x 5 columns]"
            ],
            "text/html": [
              "\n",
              "  <div id=\"df-33e38364-3f29-49fe-8c9f-69203c6b47fa\">\n",
              "    <div class=\"colab-df-container\">\n",
              "      <div>\n",
              "<style scoped>\n",
              "    .dataframe tbody tr th:only-of-type {\n",
              "        vertical-align: middle;\n",
              "    }\n",
              "\n",
              "    .dataframe tbody tr th {\n",
              "        vertical-align: top;\n",
              "    }\n",
              "\n",
              "    .dataframe thead th {\n",
              "        text-align: right;\n",
              "    }\n",
              "</style>\n",
              "<table border=\"1\" class=\"dataframe\">\n",
              "  <thead>\n",
              "    <tr style=\"text-align: right;\">\n",
              "      <th></th>\n",
              "      <th>Date</th>\n",
              "      <th>Name</th>\n",
              "      <th>Nationality</th>\n",
              "      <th>Cause of death</th>\n",
              "      <th>Mountain</th>\n",
              "    </tr>\n",
              "  </thead>\n",
              "  <tbody>\n",
              "    <tr>\n",
              "      <th>0</th>\n",
              "      <td>3 May 2019</td>\n",
              "      <td>Wui Kin Chin</td>\n",
              "      <td>Malaysia</td>\n",
              "      <td>Hypothermia/Frostbite</td>\n",
              "      <td>Annapurna</td>\n",
              "    </tr>\n",
              "    <tr>\n",
              "      <th>1</th>\n",
              "      <td>24 March 2015</td>\n",
              "      <td>Samuli Mansikka</td>\n",
              "      <td>Finland</td>\n",
              "      <td>Fall</td>\n",
              "      <td>Annapurna</td>\n",
              "    </tr>\n",
              "    <tr>\n",
              "      <th>2</th>\n",
              "      <td>24 March 2015</td>\n",
              "      <td>Pemba Sherpa</td>\n",
              "      <td>Nepal</td>\n",
              "      <td>Fall</td>\n",
              "      <td>Annapurna</td>\n",
              "    </tr>\n",
              "    <tr>\n",
              "      <th>3</th>\n",
              "      <td>7 October 2012</td>\n",
              "      <td>Ivan Lobanov</td>\n",
              "      <td>Uzbekistan</td>\n",
              "      <td>Avalanche</td>\n",
              "      <td>Annapurna</td>\n",
              "    </tr>\n",
              "    <tr>\n",
              "      <th>4</th>\n",
              "      <td>7 October 2012</td>\n",
              "      <td>Iljas Tukhvatullin</td>\n",
              "      <td>Uzbekistan</td>\n",
              "      <td>Avalanche</td>\n",
              "      <td>Annapurna</td>\n",
              "    </tr>\n",
              "    <tr>\n",
              "      <th>...</th>\n",
              "      <td>...</td>\n",
              "      <td>...</td>\n",
              "      <td>...</td>\n",
              "      <td>...</td>\n",
              "      <td>...</td>\n",
              "    </tr>\n",
              "    <tr>\n",
              "      <th>26</th>\n",
              "      <td>22 May 1991</td>\n",
              "      <td>Günther Semmler</td>\n",
              "      <td>Germany</td>\n",
              "      <td>Disappearance (probably avalanche)</td>\n",
              "      <td>Shishapangma</td>\n",
              "    </tr>\n",
              "    <tr>\n",
              "      <th>27</th>\n",
              "      <td>22 May 1991</td>\n",
              "      <td>Karl-Heinz Thiele</td>\n",
              "      <td>Germany</td>\n",
              "      <td>Disappearance (probably avalanche)</td>\n",
              "      <td>Shishapangma</td>\n",
              "    </tr>\n",
              "    <tr>\n",
              "      <th>28</th>\n",
              "      <td>15 October 1990</td>\n",
              "      <td>Joan Martinez</td>\n",
              "      <td>Spain</td>\n",
              "      <td>Exposure</td>\n",
              "      <td>Shishapangma</td>\n",
              "    </tr>\n",
              "    <tr>\n",
              "      <th>29</th>\n",
              "      <td>4 October 1989</td>\n",
              "      <td>Luca Leonardi</td>\n",
              "      <td>Switzerland</td>\n",
              "      <td>Avalanche</td>\n",
              "      <td>Shishapangma</td>\n",
              "    </tr>\n",
              "    <tr>\n",
              "      <th>30</th>\n",
              "      <td>28 April 1983</td>\n",
              "      <td>Fritz Luchsinger</td>\n",
              "      <td>Switzerland</td>\n",
              "      <td>Altitude sickness</td>\n",
              "      <td>Shishapangma</td>\n",
              "    </tr>\n",
              "  </tbody>\n",
              "</table>\n",
              "<p>881 rows × 5 columns</p>\n",
              "</div>\n",
              "      <button class=\"colab-df-convert\" onclick=\"convertToInteractive('df-33e38364-3f29-49fe-8c9f-69203c6b47fa')\"\n",
              "              title=\"Convert this dataframe to an interactive table.\"\n",
              "              style=\"display:none;\">\n",
              "        \n",
              "  <svg xmlns=\"http://www.w3.org/2000/svg\" height=\"24px\"viewBox=\"0 0 24 24\"\n",
              "       width=\"24px\">\n",
              "    <path d=\"M0 0h24v24H0V0z\" fill=\"none\"/>\n",
              "    <path d=\"M18.56 5.44l.94 2.06.94-2.06 2.06-.94-2.06-.94-.94-2.06-.94 2.06-2.06.94zm-11 1L8.5 8.5l.94-2.06 2.06-.94-2.06-.94L8.5 2.5l-.94 2.06-2.06.94zm10 10l.94 2.06.94-2.06 2.06-.94-2.06-.94-.94-2.06-.94 2.06-2.06.94z\"/><path d=\"M17.41 7.96l-1.37-1.37c-.4-.4-.92-.59-1.43-.59-.52 0-1.04.2-1.43.59L10.3 9.45l-7.72 7.72c-.78.78-.78 2.05 0 2.83L4 21.41c.39.39.9.59 1.41.59.51 0 1.02-.2 1.41-.59l7.78-7.78 2.81-2.81c.8-.78.8-2.07 0-2.86zM5.41 20L4 18.59l7.72-7.72 1.47 1.35L5.41 20z\"/>\n",
              "  </svg>\n",
              "      </button>\n",
              "      \n",
              "  <style>\n",
              "    .colab-df-container {\n",
              "      display:flex;\n",
              "      flex-wrap:wrap;\n",
              "      gap: 12px;\n",
              "    }\n",
              "\n",
              "    .colab-df-convert {\n",
              "      background-color: #E8F0FE;\n",
              "      border: none;\n",
              "      border-radius: 50%;\n",
              "      cursor: pointer;\n",
              "      display: none;\n",
              "      fill: #1967D2;\n",
              "      height: 32px;\n",
              "      padding: 0 0 0 0;\n",
              "      width: 32px;\n",
              "    }\n",
              "\n",
              "    .colab-df-convert:hover {\n",
              "      background-color: #E2EBFA;\n",
              "      box-shadow: 0px 1px 2px rgba(60, 64, 67, 0.3), 0px 1px 3px 1px rgba(60, 64, 67, 0.15);\n",
              "      fill: #174EA6;\n",
              "    }\n",
              "\n",
              "    [theme=dark] .colab-df-convert {\n",
              "      background-color: #3B4455;\n",
              "      fill: #D2E3FC;\n",
              "    }\n",
              "\n",
              "    [theme=dark] .colab-df-convert:hover {\n",
              "      background-color: #434B5C;\n",
              "      box-shadow: 0px 1px 3px 1px rgba(0, 0, 0, 0.15);\n",
              "      filter: drop-shadow(0px 1px 2px rgba(0, 0, 0, 0.3));\n",
              "      fill: #FFFFFF;\n",
              "    }\n",
              "  </style>\n",
              "\n",
              "      <script>\n",
              "        const buttonEl =\n",
              "          document.querySelector('#df-33e38364-3f29-49fe-8c9f-69203c6b47fa button.colab-df-convert');\n",
              "        buttonEl.style.display =\n",
              "          google.colab.kernel.accessAllowed ? 'block' : 'none';\n",
              "\n",
              "        async function convertToInteractive(key) {\n",
              "          const element = document.querySelector('#df-33e38364-3f29-49fe-8c9f-69203c6b47fa');\n",
              "          const dataTable =\n",
              "            await google.colab.kernel.invokeFunction('convertToInteractive',\n",
              "                                                     [key], {});\n",
              "          if (!dataTable) return;\n",
              "\n",
              "          const docLinkHtml = 'Like what you see? Visit the ' +\n",
              "            '<a target=\"_blank\" href=https://colab.research.google.com/notebooks/data_table.ipynb>data table notebook</a>'\n",
              "            + ' to learn more about interactive tables.';\n",
              "          element.innerHTML = '';\n",
              "          dataTable['output_type'] = 'display_data';\n",
              "          await google.colab.output.renderOutput(dataTable, element);\n",
              "          const docLink = document.createElement('div');\n",
              "          docLink.innerHTML = docLinkHtml;\n",
              "          element.appendChild(docLink);\n",
              "        }\n",
              "      </script>\n",
              "    </div>\n",
              "  </div>\n",
              "  "
            ]
          },
          "metadata": {},
          "execution_count": 44
        }
      ]
    },
    {
      "cell_type": "code",
      "source": [
        ""
      ],
      "metadata": {
        "id": "PoOA6_jOSfu2"
      },
      "execution_count": null,
      "outputs": []
    }
  ]
}